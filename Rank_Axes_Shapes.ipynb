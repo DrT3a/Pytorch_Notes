{
 "cells": [
  {
   "cell_type": "code",
   "execution_count": 1,
   "metadata": {},
   "outputs": [],
   "source": [
    "import torch"
   ]
  },
  {
   "cell_type": "markdown",
   "metadata": {},
   "source": [
    "Rank, Axes and Shape are fundamentally connected to Indexes.\n",
    " The rank of a tensor refers to the number of dimensions present within the tensor. Suppose we are told that we have a rank-2 tensor. This means all of the following:\n",
    "\n",
    "    • matrix\n",
    "    • 2d-array\n",
    "    • 2d-tensor\n"
   ]
  },
  {
   "cell_type": "markdown",
   "metadata": {},
   "source": [
    "##### Rank:\n",
    "The Rank of a Tensor, tells us *how many indexes are required to access a single element in the data structure*"
   ]
  },
  {
   "cell_type": "code",
   "execution_count": 4,
   "metadata": {},
   "outputs": [
    {
     "name": "stdout",
     "output_type": "stream",
     "text": [
      "Number 3 has an index number of 2. i.e. a[2] = 3\n"
     ]
    }
   ],
   "source": [
    "# For example lets say we have a rank 1 tensor:\n",
    "a = [1,2,3,4]\n",
    "# In order to access the number three we need 1 index (a_i).\n",
    "# Remember, python starts indexing from 0.\n",
    "print(f'Number 3 has an index number of 2. i.e. a[2] = {a[2]}')"
   ]
  },
  {
   "cell_type": "code",
   "execution_count": 7,
   "metadata": {},
   "outputs": [
    {
     "name": "stdout",
     "output_type": "stream",
     "text": [
      "In this case number 3 needs 2 indexes to be defined: dd[0][2] = 3 \n"
     ]
    }
   ],
   "source": [
    "# For a rank 2 tensor (2D tensor)\n",
    "dd = [[1,2,3],\n",
    "      [4,5,6],\n",
    "      [7,8,9]\n",
    "]\n",
    "print(f'In this case number 3 needs 2 indexes to be defined: dd[0][2] = {dd[0][2]} ')"
   ]
  },
  {
   "cell_type": "markdown",
   "metadata": {},
   "source": [
    "##### Length:\n",
    "\n",
    "• An *Axes* of a tensor is a specific *dimention* of the tensor.\n",
    "If we say: \"A tensor is a rank 2 tensor\", we mean that the tensor has two dimentions, or that the tensor *has 2 axes*\n",
    "\n",
    "• The elements of the tensor *exist* or are *running* along the axes.\n",
    "This *running* is constrained by the **Length of the axes**\n",
    "\n",
    "• The length of the axes, tells us *how many indexes are available along that axes.*\n",
    "\n",
    "For example:\n",
    "$\\sum\\limits_{i=1}^3 x_i$ means that the *i* index can have values of i = (1,2,3). *This* is the length of the axes.\n",
    "\n",
    "Suppose we have a tensor called t, and we know that the first axis has a ***length of three*** while the second axis has a ***length of four***.\n",
    ">Since the first axis has a length of three, this means that we can index three positions along the first axis like so:\n",
    "\n",
    "- t[0]\n",
    "- t[1] \n",
    "- t[2]\n",
    "\n",
    ">Since the second axis has a lenght of 4, we can index 4 positions along the second axes.  **And this is possible for *each index of the first axes*.**\n",
    "\n",
    "- t[0][0]\n",
    "- t[1][0]\n",
    "- t[2][0]\n",
    "\n",
    "- t[0][1]\n",
    "- t[1][1]\n",
    "- t[2][1]\n",
    "\n",
    "- t[0][2]\n",
    "- t[1][2]\n",
    "- t[2][2]\n",
    "\n",
    "- t[0][3]\n",
    "- t[1][3]\n",
    "- t[2][3]"
   ]
  },
  {
   "cell_type": "markdown",
   "metadata": {},
   "source": []
  }
 ],
 "metadata": {
  "kernelspec": {
   "display_name": "Python 3",
   "language": "python",
   "name": "python3"
  },
  "language_info": {
   "codemirror_mode": {
    "name": "ipython",
    "version": 3
   },
   "file_extension": ".py",
   "mimetype": "text/x-python",
   "name": "python",
   "nbconvert_exporter": "python",
   "pygments_lexer": "ipython3",
   "version": "3.10.13"
  },
  "orig_nbformat": 4
 },
 "nbformat": 4,
 "nbformat_minor": 2
}

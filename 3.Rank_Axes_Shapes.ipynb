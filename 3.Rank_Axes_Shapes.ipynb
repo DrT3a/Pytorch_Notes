{
 "cells": [
  {
   "cell_type": "code",
   "execution_count": 21,
   "metadata": {},
   "outputs": [],
   "source": [
    "import torch"
   ]
  },
  {
   "cell_type": "markdown",
   "metadata": {},
   "source": [
    "Rank, Axes and Shape are fundamentally connected to Indexes.\n",
    " The rank of a tensor refers to the number of dimensions present within the tensor. Suppose we are told that we have a rank-2 tensor. This means all of the following:\n",
    "\n",
    "    • matrix\n",
    "    • 2d-array\n",
    "    • 2d-tensor\n"
   ]
  },
  {
   "cell_type": "markdown",
   "metadata": {},
   "source": [
    "##### Rank:\n",
    "The Rank of a Tensor, tells us *how many indexes are required to access a single element in the data structure*"
   ]
  },
  {
   "cell_type": "code",
   "execution_count": 29,
   "metadata": {},
   "outputs": [
    {
     "name": "stdout",
     "output_type": "stream",
     "text": [
      "Number 3 has an index number of 2. i.e. a[2] = 3\n"
     ]
    }
   ],
   "source": [
    "# For example lets say we have a rank 1 tensor:\n",
    "a = [1,2,3,4]\n",
    "# In order to access the number three we need 1 index (a_i).\n",
    "# Remember, python starts indexing from 0.\n",
    "print(f'Number 3 has an index number of 2. i.e. a[2] = {a[2]}')"
   ]
  },
  {
   "cell_type": "code",
   "execution_count": 7,
   "metadata": {},
   "outputs": [
    {
     "name": "stdout",
     "output_type": "stream",
     "text": [
      "In this case number 3 needs 2 indexes to be defined: dd[0][2] = 3 \n"
     ]
    }
   ],
   "source": [
    "# For a rank 2 tensor (2D tensor)\n",
    "dd = [[1,2,3],\n",
    "      [4,5,6],\n",
    "      [7,8,9]\n",
    "]\n",
    "print(f'In this case number 3 needs 2 indexes to be defined: dd[0][2] = {dd[0][2]} ')"
   ]
  },
  {
   "cell_type": "markdown",
   "metadata": {},
   "source": [
    "##### Length:\n",
    "\n",
    "• An *Axis* of a tensor is a specific *dimention* of the tensor.\n",
    "If we say: \"A tensor is a rank 2 tensor\", we mean that the tensor has two dimentions, or that the tensor *has 2 axes*\n",
    "\n",
    "• The elements of the tensor *exist* or are *running* along the axes.\n",
    "This *running* is constrained by the **Length of the axes**\n",
    "\n",
    "• The length of the axes, tells us *how many indexes are available along that axis.*\n",
    "\n",
    "For example:\n",
    "$\\sum\\limits_{i=1}^3 x_i$ means that the *i* index can have values of i = (1,2,3). *This* is the length of the axes.\n",
    "\n",
    "Suppose we have a tensor called t, and we know that the first axis has a ***length of three*** while the second axis has a ***length of four***.\n",
    ">Since the first axis has a length of three, this means that we can index three positions along the first axis like so:\n",
    "\n",
    "- t[0]\n",
    "- t[1] \n",
    "- t[2]\n",
    "\n",
    ">Since the second axis has a lenght of 4, we can index 4 positions along the second axis.  **And this is possible for *each index of the first axes*.**\n",
    "\n",
    "- t[0][0]\n",
    "- t[1][0]\n",
    "- t[2][0]\n",
    "\n",
    "- t[0][1]\n",
    "- t[1][1]\n",
    "- t[2][1]\n",
    "\n",
    "- t[0][2]\n",
    "- t[1][2]\n",
    "- t[2][2]\n",
    "\n",
    "- t[0][3]\n",
    "- t[1][3]\n",
    "- t[2][3]"
   ]
  },
  {
   "cell_type": "markdown",
   "metadata": {},
   "source": [
    "• In practice lets consider the following tensor:\\\n",
    "dd = [\\\n",
    "[1,2,3],\\\n",
    "[4,5,6],\\\n",
    "[7,8,9]\\\n",
    "]\n",
    "\n",
    "Each element along the first axis, is an array (1 axis = 1 index ---> define 1 array):\n",
    "- Elements of the first axis/dimension: dd[0] = [1,2,3]\n",
    "- Elements of the second axis/dimension: dd[1] = [4,5,6]\n",
    "- Elements of the third axis/dimension: dd[2] = [7,8,9]\n",
    "\n",
    "Each element along the second axis/dimension, is a number.(2 axes = 2 indexes --> define 1 number):\n",
    "• The first index of axis/dimension 2:\n",
    "- The first element of the first axis/dimension: dd[0][0] = 1\n",
    "- The first element of the second axis/dimension: dd[1][0] = 4\n",
    "- The first element of the third axis/dimension: dd[2][0] = 7\n",
    "\n",
    "The second index of axis/dimension 2:\n",
    "- The second element of the first axis/dimension: dd[0][1] = 2\n",
    "- The second element of the second axis/dimension: dd[0][1] = 5\n",
    "- The second element of the third axis/dimension: dd[2][1] = 8\n",
    "\n",
    "• The third index of axis/dimension 2:\n",
    " - The third element of the first axis/dimension: dd[0][2] = 3\n",
    " - The third element of the second axis/dimension: dd[1][2] = 6\n",
    " - The third element of the third axis/dimension: dd[2][2] = 9"
   ]
  },
  {
   "cell_type": "markdown",
   "metadata": {},
   "source": [
    "***With tensors, the elements of the last axis are *always numbers*.***  \n",
    "**Every other axis contains an *n-dimensional* array.**"
   ]
  },
  {
   "cell_type": "markdown",
   "metadata": {},
   "source": [
    "##### Shape. \n",
    ">The shape of a tensor is determined by the *length* of the axes. So if we know the shape of a tensor we know the lenght of each axis. Also we know *how many indexes are available along each axis*."
   ]
  },
  {
   "cell_type": "code",
   "execution_count": 24,
   "metadata": {},
   "outputs": [
    {
     "name": "stdout",
     "output_type": "stream",
     "text": [
      "tensor([[1, 2, 3],\n",
      "        [4, 5, 6],\n",
      "        [7, 8, 9]])\n"
     ]
    }
   ],
   "source": [
    "dd = [\n",
    "[1,2,3],\n",
    "[4,5,6],\n",
    "[7,8,9]\n",
    "]\n",
    "\n",
    "# We pass the dd python list, to the torch.tensor() function to get a torch.tensor object:\n",
    "t = torch.tensor(dd)\n",
    "print(t)"
   ]
  },
  {
   "cell_type": "code",
   "execution_count": 25,
   "metadata": {},
   "outputs": [
    {
     "data": {
      "text/plain": [
       "torch.Tensor"
      ]
     },
     "execution_count": 25,
     "metadata": {},
     "output_type": "execute_result"
    }
   ],
   "source": [
    "# We can verify the type of the object:\n",
    "type(t)"
   ]
  },
  {
   "cell_type": "code",
   "execution_count": 26,
   "metadata": {},
   "outputs": [
    {
     "data": {
      "text/plain": [
       "torch.Size([3, 3])"
      ]
     },
     "execution_count": 26,
     "metadata": {},
     "output_type": "execute_result"
    }
   ],
   "source": [
    "# Now that we have a tensor, we can ask to see the shape of this tensor:\n",
    "t.shape # This returns a torch.Size() object, because in Pytorch shape is the same as size."
   ]
  },
  {
   "cell_type": "markdown",
   "metadata": {},
   "source": [
    "The shape of [3,3] tells us that *each axis* of this rank 2 tensor has a **length of 3**. \n",
    "That in turn means that we have 3 indexes *along each axis*. \n",
    "The shape also reveals the *tensors rank*.\n",
    ">The shape encodes all of the relevant information about axes, rank and therefore indexes.\n",
    "\n",
    ">**Reshaping a tensor is essential as the tensors flow through the neural network.** \n",
    "\n",
    "##### Reshaping a Tensor.\n",
    " Shape 6 x 1\n",
    "\n",
    "    number\n",
    "    scalar\n",
    "    array\n",
    "    vector\n",
    "    2d-array\n",
    "    matrix\n",
    "\n",
    "Shape 2 x 3\n",
    "\n",
    "    number, array, 2d-array\n",
    "    scalar, vector, matrix\n",
    "\n",
    "Shape 3 x 2\n",
    "\n",
    "    number, scalar\n",
    "    array, vector\n",
    "    2d-array, matrix\n",
    "\n",
    "Each of the above groups, represent the underlying data, only with different shapes. \n",
    "Shaping changes the grouping of the term. \n",
    ">Όπως και το μέγεθος ενός τανυστή παραμένει αναλλοίωτο σε αλλαγή συστήματος αναφοράς,απλά αλλάζει η έκφραση (π.χ. διάνυσμα απο καρτεσιανές σε σφαιρικές ή κυλινδρικές συντεταγμένες.\n",
    "Η βασική πληροφορία είναι ανναλοίωτη, αυτό που αλλάζει είναι ο τρόπος έκφρασής της.)"
   ]
  },
  {
   "cell_type": "code",
   "execution_count": 27,
   "metadata": {},
   "outputs": [
    {
     "data": {
      "text/plain": [
       "tensor([[1, 2, 3, 4, 5, 6, 7, 8, 9]])"
      ]
     },
     "execution_count": 27,
     "metadata": {},
     "output_type": "execute_result"
    }
   ],
   "source": [
    "# Lets reshape tensor t to a (1,9) size, meaning a (3 columns x 3 rows), becomes (1 column x 9 rows). We call .reshape() and specify the length of each axis.\n",
    "t.reshape(1,9)"
   ]
  },
  {
   "cell_type": "code",
   "execution_count": 28,
   "metadata": {},
   "outputs": [
    {
     "data": {
      "text/plain": [
       "torch.Size([1, 9])"
      ]
     },
     "execution_count": 28,
     "metadata": {},
     "output_type": "execute_result"
    }
   ],
   "source": [
    "# Verify the shape\n",
    "t.reshape(1,9).shape"
   ]
  },
  {
   "cell_type": "markdown",
   "metadata": {},
   "source": [
    "> Note that the product of the component values in the shape must equall the totall number of elements in the tensor. (3,3) = 3x3, (1,9) = 1x9.\n",
    "> *Ακριβώς όπως και η αλλαγή συντεταγμένων*"
   ]
  }
 ],
 "metadata": {
  "kernelspec": {
   "display_name": "Python 3",
   "language": "python",
   "name": "python3"
  },
  "language_info": {
   "codemirror_mode": {
    "name": "ipython",
    "version": 3
   },
   "file_extension": ".py",
   "mimetype": "text/x-python",
   "name": "python",
   "nbconvert_exporter": "python",
   "pygments_lexer": "ipython3",
   "version": "3.10.13"
  },
  "orig_nbformat": 4
 },
 "nbformat": 4,
 "nbformat_minor": 2
}

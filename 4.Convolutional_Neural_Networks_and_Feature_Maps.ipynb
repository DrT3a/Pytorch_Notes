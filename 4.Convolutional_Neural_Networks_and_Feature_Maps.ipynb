{
 "cells": [
  {
   "cell_type": "markdown",
   "metadata": {},
   "source": [
    "The shape of a Convolutional Neural Network (CNN) typically has a length of 4: $len([α_0,α_1,α_2,α_3]) = 4$.  \n",
    "This means, we have a rank 4 tensor with 4 axes and the value at each index gives us the *length* of this corresponding axis: $[Length_0,Length_1,Length_2,Length_3]$\n",
    "\n",
    "• For images the raw data comes in the form of pixels represented by a number, and layed out in 2 dimensions (height $x$ width) \n",
    "> The image height and width are represented in the **last two axes.**: $[α_0,α_1,height,width]$ \n",
    "\n",
    "<div style=\"text-align: center;\">\n",
    "\n",
    "![image_a](Img/height_width.JPG) \n",
    "\n",
    "</div>\n",
    "\n",
    "> The next axis represents the **Color Channels**: $[α_0,color-channels,height,width]$ \n",
    "\n",
    "3 Values for (R,G,B):\n",
    "<div style=\"text-align: center;\">\n",
    "\n",
    "![image_a](Img/rgb.jpg) \n",
    "\n",
    "</div>\n",
    "\n",
    "Or 1 for grayscale images:\n",
    "<div style=\"text-align: center;\">\n",
    "\n",
    "![image_a](Img/grayscale.JPG) \n",
    "\n",
    "</div> \n",
    "\n",
    "> Note the color interpretation only applies to the *input tensor*.\n",
    "> The interpretation of this axis $(a_1)$, changes after the tensor passes through a convolutional layer.\n",
    "\n",
    "So far, we have used the last three axes of the tensor $(α_1,α_2,α_3$) to represent an image as a tensor.\n",
    "> So to define a pixel we need: Color channel, Height, Width: \n",
    "<div style=\"text-align: center;\">\n",
    "\n",
    "![image_a](Img/pixel.JPG) \n",
    "\n",
    "</div> \n",
    "\n",
    "This brings us to $α_0$ : **The batch size**.\n",
    "In Neural Networks, we usually work with batches of samples, instead of a single sample.\n",
    ">So the length of axis $α_0$ tells us how many samples are in our batch.\n",
    "<div style=\"text-align: center;\">\n",
    "\n",
    "![image_a](Img/batches.JPG) \n",
    "\n",
    "</div> \n",
    "\n",
    "> In conclusion: $[batch-size,color-channel,height,width]$\n",
    "> This allows us to see an entire batch of images represented by a single rank 4 tensor!"
   ]
  },
  {
   "cell_type": "markdown",
   "metadata": {},
   "source": [
    "For example lets say we have the following shape: [3,1,28,28]\n",
    "This means that the images are 28 x 28 pixels, 1 color channel means grayscale, and we have a batch of 3 images.\n",
    "\n",
    "<div style=\"text-align: center;\">\n",
    "\n",
    "![image_a](Img/batch_of_3.JPG) \n",
    "\n",
    "</div>\n",
    "\n",
    "This is a rank 4 neural network that will flow through our neural network.   \n",
    "\n",
    ">**So, now we can essentially navigate to a *specific pixel* in a *specific color channel* of a *specific image in the batch*!!**"
   ]
  }
 ],
 "metadata": {
  "kernelspec": {
   "display_name": "Python 3",
   "language": "python",
   "name": "python3"
  },
  "language_info": {
   "name": "python",
   "version": "3.10.13"
  },
  "orig_nbformat": 4
 },
 "nbformat": 4,
 "nbformat_minor": 2
}

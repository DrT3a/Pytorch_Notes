{
 "cells": [
  {
   "cell_type": "code",
   "execution_count": 1,
   "metadata": {},
   "outputs": [],
   "source": [
    "import torch"
   ]
  },
  {
   "cell_type": "markdown",
   "metadata": {},
   "source": [
    "• number, array, 2d - array ---> Terms used in computer science.\n",
    "\n",
    "• scalar, vector, matrix ---> Equivalents in physics and math. "
   ]
  },
  {
   "cell_type": "markdown",
   "metadata": {},
   "source": [
    "• number, scalar\n",
    "\n",
    "• array, vector\n",
    "\n",
    "• 2d-array, matrix\n",
    "\n",
    "Each of these groups require the same amount of indexes to access an element.\n",
    "\n",
    "Ουσιαστικά, η κάθε ομάδα απο τις παραπάνω, χρειάζεται τον ίδιο αριθμό δεικτών, για να μπορούν να προσδιοριστούν τα εκάστοτε στοιχεία. π.χ. Το βαθμωτό (number, scalar), χρειάζεται 0 δείκτες, το διάνυσμα (array, vector) θέλει ένα δείκτη $(\\hat{A}_x, \\hat{A}_y, \\hat{A}_z)$, τα στοιχεία του κάθε πίνακα θέλουν δύο δείκτες $(a_{ij})$"
   ]
  },
  {
   "cell_type": "code",
   "execution_count": 7,
   "metadata": {},
   "outputs": [
    {
     "name": "stdout",
     "output_type": "stream",
     "text": [
      "The index of number 3 in this array is: a[2] = 3\n"
     ]
    }
   ],
   "source": [
    "# Lets suppose we have an array with four elements:\n",
    "a = [1,2,3,4]\n",
    "# And we want to access number 3. \n",
    "print(f'The index of number 3 in this array is: a[2] = {a[2]}')\n",
    "# O δείκτης δλδ του 3 είναι 2."
   ]
  },
  {
   "cell_type": "code",
   "execution_count": 13,
   "metadata": {},
   "outputs": [
    {
     "name": "stdout",
     "output_type": "stream",
     "text": [
      "We access number three with the following index: dd[0][2] = 3\n"
     ]
    }
   ],
   "source": [
    "# Same thing with a 2D array:\n",
    "dd = [\n",
    "[1,2,3],\n",
    "[4,5,6],\n",
    "[7,8,9]\n",
    "]\n",
    "# We need 2 indexes to refer to the number 3. Don't forget Python indexes start from 0!\n",
    "print(f'We access number three with the following index: dd[0][2] = {dd[0][2]}')"
   ]
  },
  {
   "cell_type": "markdown",
   "metadata": {},
   "source": [
    "When we reach higher than 2 dimensions (when more that 2 indexes are required), we stop giving specific names to the datastructure and begin using more general language (i.e. nd-array, nd-tensor) n = number of indexes or number of dimensions.\n",
    "\n",
    "It is important to understand that the dimensions of a tensor are not the same as the dimensions of a vector.\n",
    "\n",
    "For example, a vector $\\hat{F}(x,y,z)$ has 3 components, but a 3 dimensional tensor can have many more than 3 components.\n",
    "\n",
    "The aforementioned 2D tensor dd has nine components."
   ]
  }
 ],
 "metadata": {
  "kernelspec": {
   "display_name": "Python 3",
   "language": "python",
   "name": "python3"
  },
  "language_info": {
   "codemirror_mode": {
    "name": "ipython",
    "version": 3
   },
   "file_extension": ".py",
   "mimetype": "text/x-python",
   "name": "python",
   "nbconvert_exporter": "python",
   "pygments_lexer": "ipython3",
   "version": "3.10.13"
  },
  "orig_nbformat": 4
 },
 "nbformat": 4,
 "nbformat_minor": 2
}
